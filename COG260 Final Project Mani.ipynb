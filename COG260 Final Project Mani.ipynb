{
 "cells": [
  {
   "cell_type": "code",
   "execution_count": 14,
   "metadata": {},
   "outputs": [],
   "source": [
    "import numpy as np\n",
    "import pandas as pd\n",
    "import os\n",
    "from tqdm import tqdm\n",
    "import matplotlib.pyplot as plt\n",
    "from sklearn.model_selection import train_test_split\n",
    "from scipy.optimize import minimize\n",
    "from sklearn.preprocessing import StandardScaler\n",
    "from scipy.stats import pearsonr, spearmanr\n",
    "from scipy.special import expit\n",
    "from sklearn.model_selection import train_test_split\n",
    "from sklearn.linear_model import LinearRegression, LogisticRegression\n",
    "from multiprocessing import Pool\n",
    "from sklearn.metrics import r2_score, mean_squared_error\n",
    "pd.options.mode.chained_assignment = None"
   ]
  },
  {
   "cell_type": "code",
   "execution_count": 2,
   "metadata": {},
   "outputs": [],
   "source": [
    "from warnings import simplefilter\n",
    "simplefilter(action='ignore')"
   ]
  },
  {
   "cell_type": "markdown",
   "metadata": {},
   "source": [
    "# Data loading and pre-processing"
   ]
  },
  {
   "cell_type": "code",
   "execution_count": 3,
   "metadata": {},
   "outputs": [],
   "source": [
    "df = pd.read_csv(\"df_all_raw.csv\")\n",
    "df.columns = list(map(str.lower, df.columns))\n",
    "df = df.drop(columns=['dataset_id', 'form_id', 'form', 'gloss_in_source', 'iso639p3code', 'mrc_word', 'kucera_francis_frequency'])"
   ]
  },
  {
   "cell_type": "code",
   "execution_count": 4,
   "metadata": {},
   "outputs": [],
   "source": [
    "x = pd.read_csv('colex_counts.csv')\n",
    "relevant = df[[\"concepticon_gloss\", \"age_of_acquisition\", \"concreteness\", \"familiarity\", \"imagability\"]].dropna()\n",
    "concepts = np.intersect1d(np.intersect1d(x[\"concept_1\"].unique(), x[\"concept_2\"].unique()),relevant[\"concepticon_gloss\"].unique())"
   ]
  },
  {
   "cell_type": "code",
   "execution_count": 5,
   "metadata": {},
   "outputs": [],
   "source": [
    "mask = (x[\"concept_1\"].isin(concepts)) & (x[\"concept_2\"].isin(concepts))\n",
    "colex_data = x[mask]\n",
    "mask2 = (relevant[\"concepticon_gloss\"].isin(concepts))\n",
    "concept_data = relevant[mask2].groupby(\"concepticon_gloss\").mean()\n",
    "concept_data.reset_index(inplace=True)"
   ]
  },
  {
   "cell_type": "code",
   "execution_count": 6,
   "metadata": {},
   "outputs": [],
   "source": [
    "merged_df1 = pd.merge(colex_data, concept_data, left_on='concept_1', \n",
    "                     right_on='concepticon_gloss', how='left')\n",
    "merged_df2 = pd.merge(colex_data, concept_data, left_on='concept_2', \n",
    "                     right_on='concepticon_gloss', how='left')"
   ]
  },
  {
   "cell_type": "code",
   "execution_count": 7,
   "metadata": {},
   "outputs": [],
   "source": [
    "merged_df1.columns = [f'{col}_c1' for col in merged_df1.columns]\n",
    "merged_df2.columns = [f'{col}_c2' for col in merged_df2.columns]\n",
    "final_merged_df = pd.concat([merged_df1, merged_df2], axis=1)\n",
    "final_merged_df.drop(columns=[\"concepticon_gloss_c1\", \"concepticon_gloss_c2\", \n",
    "                              \"concept_2_c2\", \"concept_1_c2\", \"colexification_count_c2\"], inplace=True)"
   ]
  },
  {
   "cell_type": "code",
   "execution_count": 8,
   "metadata": {},
   "outputs": [],
   "source": [
    "final_merged_df = final_merged_df.rename(columns={\"concept_1_c1\":\"concept_1\",\"concept_2_c1\":\"concept_2\", \"colexification_count_c1\": \"colex_count\"})"
   ]
  },
  {
   "cell_type": "markdown",
   "metadata": {
    "heading_collapsed": true
   },
   "source": [
    "# Linear Model"
   ]
  },
  {
   "cell_type": "code",
   "execution_count": null,
   "metadata": {
    "hidden": true
   },
   "outputs": [],
   "source": [
    "def divide_chunks(l, n):\n",
    "    for i in range(0, len(l), n):\n",
    "        yield l[i:i + n]\n",
    "        \n",
    "def objective1(params, F1, F2, y):\n",
    "    weights = params[:-1]\n",
    "    intercept = params[-1]\n",
    "    corr_coefficient, _ = pearsonr(y, F1.dot(weights) + F2.dot(weights) + intercept)\n",
    "    return -corr_coefficient\n",
    "    \n",
    "def objective2(params, F1, F2, y):\n",
    "    weights = params[:-1]\n",
    "    intercept = params[-1]\n",
    "    return -spearmanr(y, F1.dot(weights) + F2.dot(weights) + intercept).statistic\n",
    "\n",
    "def process_iteration(i):\n",
    "    X1_train, X1_test, X2_train, X2_test, y_train, y_test = train_test_split(X1, X2, y, random_state=i)\n",
    "    X1_train_scaled = scaler.fit_transform(X1_train)\n",
    "    X1_test_scaled = scaler.transform(X1_test)\n",
    "    X2_train_scaled = scaler.fit_transform(X2_train)\n",
    "    X2_test_scaled = scaler.transform(X2_test)  \n",
    "    \n",
    "    params = [1, 1, 1, 1, 0]\n",
    "    result1 = minimize(objective1, params, args=(X1_train_scaled, X2_train_scaled, y_train), method='Powell')\n",
    "    result2 = minimize(objective2, params, args=(X1_train_scaled, X2_train_scaled, y_train), method='Powell')\n",
    "\n",
    "    optimal_weights1 = result1.x\n",
    "    optimal_weights2 = result2.x\n",
    "    predictions1_test1 = X1_test_scaled.dot(optimal_weights1[:-1]) \n",
    "    predictions2_test1 = X2_test_scaled.dot(optimal_weights1[:-1])\n",
    "    predictions1_test2 = X1_test_scaled.dot(optimal_weights2[:-1]) \n",
    "    predictions2_test2 = X2_test_scaled.dot(optimal_weights2[:-1]) \n",
    "    r1, p1 = pearsonr(y_test, predictions1_test1 + predictions2_test1 + optimal_weights1[-1])\n",
    "    res1 = spearmanr(y_test, predictions1_test1 + predictions2_test1 + optimal_weights1[-1])\n",
    "    r2, p2 = pearsonr(y_test, predictions1_test2 + predictions2_test2 + optimal_weights2[-1])\n",
    "    res2 = spearmanr(y_test, predictions1_test2 + predictions2_test2 + optimal_weights2[-1])\n",
    "    model = LinearRegression()\n",
    "    model.fit(np.concatenate((X1_train_scaled, X2_train_scaled), axis=1), y_train)\n",
    "    predictions = model.predict(np.concatenate((X1_test_scaled, X2_test_scaled), axis=1))\n",
    "    r3, p3 = pearsonr(y_test, predictions)\n",
    "    res3 = spearmanr(y_test, predictions)\n",
    "    weight3 = list(model.coef_)\n",
    "    weight3.append(model.intercept_)\n",
    "    return optimal_weights1, optimal_weights2, weight3, (r1, p1), res1.statistic, (r2, p2), res2.statistic, (r3, p3), res3.statistic\n",
    "\n",
    "X1 = final_merged_df[['age_of_acquisition_c1', 'concreteness_c1', 'familiarity_c1', 'imagability_c1']]\n",
    "X2 = final_merged_df[['age_of_acquisition_c2', 'concreteness_c2', 'familiarity_c2', 'imagability_c2']]\n",
    "y = final_merged_df['colex_count']\n",
    "scaler = StandardScaler()\n",
    "\n",
    "num_iterations = 300\n",
    "\n",
    "weights1 = []\n",
    "weights2 = []\n",
    "weights3 = []\n",
    "manual_pearsons1 = []\n",
    "manual_spearmans1 = []\n",
    "manual_pearsons2 = []\n",
    "manual_spearmans2 = []\n",
    "linear_pearsons = []\n",
    "linear_spearmans = []\n",
    "\n",
    "n = os.cpu_count() - 2\n",
    "chunksize = 10\n",
    "x = list(divide_chunks([i for i in range(num_iterations)], chunksize * n))\n",
    "for lst in tqdm(x, desc='Getting Iterations'):\n",
    "    with Pool(processes=n) as pool:\n",
    "        results = pool.map(process_iteration, lst, chunksize=chunksize)\n",
    "    for result in results:\n",
    "        w1, w2, w3, mp1, ms1, mp2, ms2, lp, ls = result\n",
    "        weights1.append(w1)\n",
    "        weights2.append(w2)\n",
    "        weights3.append(w3)\n",
    "        manual_pearsons1.append(mp1)\n",
    "        manual_spearmans1.append(ms1)\n",
    "        manual_pearsons2.append(mp2)\n",
    "        manual_spearmans2.append(ms2)\n",
    "        linear_pearsons.append(lp)\n",
    "        linear_spearmans.append(ls)"
   ]
  },
  {
   "cell_type": "code",
   "execution_count": null,
   "metadata": {
    "hidden": true
   },
   "outputs": [],
   "source": [
    "results = pd.DataFrame({\"Optimal Weights (pearson objective)\": weights1,\n",
    "              \"Optimal Weights (Spearman objective)\": weights2,\n",
    "              \"Optimal Weights (Linear Model)\": weights3,\n",
    "              \"Manual Pearsons R (pearson objective)\": [i[0] for i in manual_pearsons1],\n",
    "              \"Manual Pearsons P (pearson objective)\": [i[1] for i in manual_pearsons1], \n",
    "              \"Manual Spearman (pearson objective)\": manual_spearmans1,\n",
    "              \"Manual Pearsons R (Spearman objective)\": [i[0] for i in manual_pearsons2],\n",
    "              \"Manual Pearsons P (Spearman objective)\": [i[1] for i in manual_pearsons2], \n",
    "              \"Manual Spearman (Spearman objective)\": manual_spearmans2,\n",
    "              \"Linear Pearsons (R)\": [i[0] for i in linear_pearsons],\n",
    "              \"Linear Pearsons (P)\": [i[1] for i in linear_pearsons], \n",
    "              \"Linear Spearman\": linear_spearmans})\n",
    "results.to_pickle(\"results.pkl\")"
   ]
  },
  {
   "cell_type": "markdown",
   "metadata": {
    "heading_collapsed": true
   },
   "source": [
    "# Logistic Model"
   ]
  },
  {
   "cell_type": "code",
   "execution_count": 42,
   "metadata": {
    "hidden": true
   },
   "outputs": [],
   "source": [
    "def divide_chunks(l, n):\n",
    "    for i in range(0, len(l), n):\n",
    "        yield l[i:i + n]\n",
    "        \n",
    "\n",
    "def objective1(params, F1, F2, y):\n",
    "    weights = params[:-1]\n",
    "    intercept = params[-1]\n",
    "    return mean_squared_error(y, np.exp(F1.dot(weights) + F2.dot(weights) + intercept) * expit(F1.dot(weights) + F2.dot(weights) + intercept), squared=False) \n",
    "\n",
    "def objective2(params, F1, F2, y):\n",
    "    weights = params[:-1]\n",
    "    intercept = params[-1]\n",
    "    return -r2_score(y, np.exp(F1.dot(weights) + F2.dot(weights) + intercept) * expit(F1.dot(weights) + F2.dot(weights) + intercept))\n",
    "\n",
    "def process_iteration(i):\n",
    "    X1_train, X1_test, X2_train, X2_test, y_train, y_test = train_test_split(X1, X2, y, random_state=i)\n",
    "    X1_train_scaled = scaler.fit_transform(X1_train)\n",
    "    X1_test_scaled = scaler.transform(X1_test)\n",
    "    X2_train_scaled = scaler.fit_transform(X2_train)\n",
    "    X2_test_scaled = scaler.transform(X2_test)  \n",
    "    params = [1, 1, 1, 1, 0]\n",
    "    result1 = minimize(objective1, params, args=(X1_train_scaled, X2_train_scaled, y_train), method='Powell')\n",
    "    result2 = minimize(objective2, params, args=(X1_train_scaled, X2_train_scaled, y_train), method='Powell')\n",
    "    optimal_weights1 = result1.x\n",
    "    optimal_weights2 = result2.x\n",
    "    predictions1_test1 = X1_test_scaled.dot(optimal_weights1[:-1]) \n",
    "    predictions2_test1 = X2_test_scaled.dot(optimal_weights1[:-1])\n",
    "    predictions1_test2 = X1_test_scaled.dot(optimal_weights2[:-1]) \n",
    "    predictions2_test2 = X2_test_scaled.dot(optimal_weights2[:-1]) \n",
    "    r1 = r2_score(y_test, predictions1_test1 + predictions2_test1 + optimal_weights1[-1])\n",
    "    mse1 = mean_squared_error(y_test, predictions1_test1 + predictions2_test1 + optimal_weights1[-1], squared=False)\n",
    "    r2 = r2_score(y_test, predictions1_test2 + predictions2_test2 + optimal_weights2[-1])\n",
    "    mse2 = mean_squared_error(y_test, predictions1_test2 + predictions2_test2 + optimal_weights2[-1], squared=False)\n",
    "    model = LogisticRegression(solver='newton-cg')\n",
    "    model.fit(np.concatenate((X1_train_scaled, X2_train_scaled), axis=1), y_train)\n",
    "    \n",
    "    predictions = model.predict(np.concatenate((X1_test_scaled, X2_test_scaled), axis=1))\n",
    "    r3 = r2_score(y_test, predictions, force_finite=False)\n",
    "    mse3 = mean_squared_error(y_test, predictions, squared=False)\n",
    "\n",
    "    coefficients = model.coef_\n",
    "    intercepts = model.intercept_\n",
    "    weighted_sum_coefficients = np.zeros_like(coefficients[0])\n",
    "    weighted_sum_intercept = 0\n",
    "\n",
    "    for class_label, count in zip(model.classes_, [np.count_nonzero(y_train == i) for i in model.classes_]):\n",
    "        class_index = np.where(model.classes_ == class_label)[0][0]\n",
    "        weighted_sum_coefficients += count * coefficients[class_index]\n",
    "        weighted_sum_intercept += count * intercepts[class_index]\n",
    "\n",
    "    weighted_avg_coefficients = weighted_sum_coefficients / np.sum(model.classes_)\n",
    "    weighted_avg_intercept = weighted_sum_intercept / np.sum(model.classes_)\n",
    "\n",
    "    return optimal_weights1, optimal_weights2, weighted_avg_coefficients + [weighted_avg_intercept], r1, mse1, r2, mse2, r3, mse3"
   ]
  },
  {
   "cell_type": "code",
   "execution_count": 43,
   "metadata": {
    "hidden": true
   },
   "outputs": [
    {
     "name": "stderr",
     "output_type": "stream",
     "text": [
      "Getting Iterations: 100%|██████████| 6/6 [31:31<00:00, 315.26s/it]\n"
     ]
    }
   ],
   "source": [
    "X1 = final_merged_df[['age_of_acquisition_c1', 'concreteness_c1', 'familiarity_c1', 'imagability_c1']]\n",
    "X2 = final_merged_df[['age_of_acquisition_c2', 'concreteness_c2', 'familiarity_c2', 'imagability_c2']]\n",
    "y = final_merged_df['colex_count']\n",
    "scaler = StandardScaler()\n",
    "\n",
    "num_iterations = 300\n",
    "\n",
    "weights1 = []\n",
    "weights2 = []\n",
    "weights3 = []\n",
    "r1 = []\n",
    "r2 = []\n",
    "r3 = []\n",
    "mse1 = []\n",
    "mse2 = []\n",
    "mse3 = []\n",
    "n = os.cpu_count() - 1\n",
    "chunksize = 8\n",
    "x = list(divide_chunks([i for i in range(num_iterations)], chunksize * n))\n",
    "for lst in tqdm(x, desc='Getting Iterations'):\n",
    "    with Pool(processes=n) as pool:\n",
    "        results = pool.map(process_iteration, lst, chunksize=chunksize)\n",
    "    for result in results:\n",
    "        w1, w2, w3, mp1, ms1, mp2, ms2, lp, ls = result\n",
    "        weights1.append(w1)\n",
    "        weights2.append(w2)\n",
    "        weights3.append(w3)\n",
    "        r1.append(mp1)\n",
    "        mse1.append(ms1)\n",
    "        r2.append(mp2)\n",
    "        mse2.append(ms2)\n",
    "        r3.append(lp)\n",
    "        mse3.append(ls)"
   ]
  },
  {
   "cell_type": "code",
   "execution_count": 44,
   "metadata": {
    "hidden": true
   },
   "outputs": [],
   "source": [
    "logistic_results =  pd.DataFrame({\"Optimal Weights (RMSE objective)\": weights1,\n",
    "              \"Optimal Weights (R2 objective)\": weights2,\n",
    "              \"Optimal Weights (Logistic Model)\": weights3,\n",
    "              \"Manual R2 (RMSE objective)\": r1,\n",
    "              \"Manual RMSE (RMSE objective)\": mse1,\n",
    "              \"Manual R2 (R2 objective)\": r2,\n",
    "              \"Manual RMSE (R2 objective)\": mse2,\n",
    "              \"Logistic R2\": r3,\n",
    "              \"Logistic RMSE\": mse3})\n",
    "logistic_results.to_pickle(\"logistic_results.pkl\")\n"
   ]
  },
  {
   "cell_type": "markdown",
   "metadata": {},
   "source": [
    "# Reading Data"
   ]
  },
  {
   "cell_type": "code",
   "execution_count": 115,
   "metadata": {},
   "outputs": [
    {
     "data": {
      "text/plain": [
       "array([[ 1.        , -0.27854178, -0.67139281, -0.39317137],\n",
       "       [-0.27854178,  1.        , -0.04994715,  0.79581234],\n",
       "       [-0.67139281, -0.04994715,  1.        ,  0.11019978],\n",
       "       [-0.39317137,  0.79581234,  0.11019978,  1.        ]])"
      ]
     },
     "execution_count": 115,
     "metadata": {},
     "output_type": "execute_result"
    }
   ],
   "source": [
    "Feature_Intercorrelations = spearmanr(X1).statistic\n",
    "Feature_Intercorrelations2 = spearmanr(X2).statistic\n",
    "(Feature_Intercorrelations + Feature_Intercorrelations2)/2"
   ]
  },
  {
   "cell_type": "code",
   "execution_count": 46,
   "metadata": {},
   "outputs": [],
   "source": [
    "linear_results = pd.read_pickle(\"results.pkl\")\n",
    "logistic_results = pd.read_pickle(\"logistic_results.pkl\")"
   ]
  },
  {
   "cell_type": "code",
   "execution_count": 52,
   "metadata": {},
   "outputs": [],
   "source": [
    "linear_filtered = linear_results[\n",
    "    (linear_results[\"Manual Pearsons P (pearson objective)\"] < 0.01) & \n",
    "    (linear_results[\"Manual Pearsons P (Spearman objective)\"] < 0.01) &\n",
    "    (linear_results[\"Linear Pearsons (P)\"] < 0.01)\n",
    "]\n",
    "logistic_filtered = logistic_results[\n",
    "    (linear_results[\"Manual Pearsons P (pearson objective)\"] < 0.01) & \n",
    "    (linear_results[\"Manual Pearsons P (Spearman objective)\"] < 0.01) &\n",
    "    (linear_results[\"Linear Pearsons (P)\"] < 0.01)\n",
    "]"
   ]
  },
  {
   "cell_type": "code",
   "execution_count": 65,
   "metadata": {},
   "outputs": [
    {
     "data": {
      "text/html": [
       "<div>\n",
       "<style scoped>\n",
       "    .dataframe tbody tr th:only-of-type {\n",
       "        vertical-align: middle;\n",
       "    }\n",
       "\n",
       "    .dataframe tbody tr th {\n",
       "        vertical-align: top;\n",
       "    }\n",
       "\n",
       "    .dataframe thead th {\n",
       "        text-align: right;\n",
       "    }\n",
       "</style>\n",
       "<table border=\"1\" class=\"dataframe\">\n",
       "  <thead>\n",
       "    <tr style=\"text-align: right;\">\n",
       "      <th></th>\n",
       "      <th>Manual Pearsons R (pearson objective)</th>\n",
       "      <th>Manual Pearsons P (pearson objective)</th>\n",
       "      <th>Manual Spearman (pearson objective)</th>\n",
       "      <th>Manual Pearsons R (Spearman objective)</th>\n",
       "      <th>Manual Pearsons P (Spearman objective)</th>\n",
       "      <th>Manual Spearman (Spearman objective)</th>\n",
       "      <th>Linear Pearsons (R)</th>\n",
       "      <th>Linear Pearsons (P)</th>\n",
       "      <th>Linear Spearman</th>\n",
       "    </tr>\n",
       "  </thead>\n",
       "  <tbody>\n",
       "    <tr>\n",
       "      <th>count</th>\n",
       "      <td>20.000000</td>\n",
       "      <td>20.000000</td>\n",
       "      <td>20.000000</td>\n",
       "      <td>20.000000</td>\n",
       "      <td>20.000000</td>\n",
       "      <td>20.000000</td>\n",
       "      <td>20.000000</td>\n",
       "      <td>20.000000</td>\n",
       "      <td>20.000000</td>\n",
       "    </tr>\n",
       "    <tr>\n",
       "      <th>mean</th>\n",
       "      <td>0.107361</td>\n",
       "      <td>0.003433</td>\n",
       "      <td>0.107969</td>\n",
       "      <td>0.096630</td>\n",
       "      <td>0.005539</td>\n",
       "      <td>0.161762</td>\n",
       "      <td>0.105824</td>\n",
       "      <td>0.003162</td>\n",
       "      <td>0.101880</td>\n",
       "    </tr>\n",
       "    <tr>\n",
       "      <th>std</th>\n",
       "      <td>0.016719</td>\n",
       "      <td>0.003350</td>\n",
       "      <td>0.026704</td>\n",
       "      <td>0.009910</td>\n",
       "      <td>0.003050</td>\n",
       "      <td>0.021516</td>\n",
       "      <td>0.013832</td>\n",
       "      <td>0.002900</td>\n",
       "      <td>0.023926</td>\n",
       "    </tr>\n",
       "    <tr>\n",
       "      <th>min</th>\n",
       "      <td>0.088232</td>\n",
       "      <td>0.000057</td>\n",
       "      <td>0.051545</td>\n",
       "      <td>0.087670</td>\n",
       "      <td>0.000295</td>\n",
       "      <td>0.106484</td>\n",
       "      <td>0.087366</td>\n",
       "      <td>0.000097</td>\n",
       "      <td>0.052970</td>\n",
       "    </tr>\n",
       "    <tr>\n",
       "      <th>25%</th>\n",
       "      <td>0.093575</td>\n",
       "      <td>0.000280</td>\n",
       "      <td>0.094032</td>\n",
       "      <td>0.089092</td>\n",
       "      <td>0.003299</td>\n",
       "      <td>0.149787</td>\n",
       "      <td>0.096306</td>\n",
       "      <td>0.000994</td>\n",
       "      <td>0.087855</td>\n",
       "    </tr>\n",
       "    <tr>\n",
       "      <th>50%</th>\n",
       "      <td>0.100461</td>\n",
       "      <td>0.003008</td>\n",
       "      <td>0.102209</td>\n",
       "      <td>0.094397</td>\n",
       "      <td>0.005301</td>\n",
       "      <td>0.162046</td>\n",
       "      <td>0.102474</td>\n",
       "      <td>0.002463</td>\n",
       "      <td>0.098135</td>\n",
       "    </tr>\n",
       "    <tr>\n",
       "      <th>75%</th>\n",
       "      <td>0.122835</td>\n",
       "      <td>0.005731</td>\n",
       "      <td>0.128449</td>\n",
       "      <td>0.099483</td>\n",
       "      <td>0.008521</td>\n",
       "      <td>0.175448</td>\n",
       "      <td>0.112848</td>\n",
       "      <td>0.004468</td>\n",
       "      <td>0.117586</td>\n",
       "    </tr>\n",
       "    <tr>\n",
       "      <th>max</th>\n",
       "      <td>0.135883</td>\n",
       "      <td>0.009179</td>\n",
       "      <td>0.157994</td>\n",
       "      <td>0.122368</td>\n",
       "      <td>0.009636</td>\n",
       "      <td>0.201415</td>\n",
       "      <td>0.131717</td>\n",
       "      <td>0.009891</td>\n",
       "      <td>0.153815</td>\n",
       "    </tr>\n",
       "  </tbody>\n",
       "</table>\n",
       "</div>"
      ],
      "text/plain": [
       "       Manual Pearsons R (pearson objective)  \\\n",
       "count                              20.000000   \n",
       "mean                                0.107361   \n",
       "std                                 0.016719   \n",
       "min                                 0.088232   \n",
       "25%                                 0.093575   \n",
       "50%                                 0.100461   \n",
       "75%                                 0.122835   \n",
       "max                                 0.135883   \n",
       "\n",
       "       Manual Pearsons P (pearson objective)  \\\n",
       "count                              20.000000   \n",
       "mean                                0.003433   \n",
       "std                                 0.003350   \n",
       "min                                 0.000057   \n",
       "25%                                 0.000280   \n",
       "50%                                 0.003008   \n",
       "75%                                 0.005731   \n",
       "max                                 0.009179   \n",
       "\n",
       "       Manual Spearman (pearson objective)  \\\n",
       "count                            20.000000   \n",
       "mean                              0.107969   \n",
       "std                               0.026704   \n",
       "min                               0.051545   \n",
       "25%                               0.094032   \n",
       "50%                               0.102209   \n",
       "75%                               0.128449   \n",
       "max                               0.157994   \n",
       "\n",
       "       Manual Pearsons R (Spearman objective)  \\\n",
       "count                               20.000000   \n",
       "mean                                 0.096630   \n",
       "std                                  0.009910   \n",
       "min                                  0.087670   \n",
       "25%                                  0.089092   \n",
       "50%                                  0.094397   \n",
       "75%                                  0.099483   \n",
       "max                                  0.122368   \n",
       "\n",
       "       Manual Pearsons P (Spearman objective)  \\\n",
       "count                               20.000000   \n",
       "mean                                 0.005539   \n",
       "std                                  0.003050   \n",
       "min                                  0.000295   \n",
       "25%                                  0.003299   \n",
       "50%                                  0.005301   \n",
       "75%                                  0.008521   \n",
       "max                                  0.009636   \n",
       "\n",
       "       Manual Spearman (Spearman objective)  Linear Pearsons (R)  \\\n",
       "count                             20.000000            20.000000   \n",
       "mean                               0.161762             0.105824   \n",
       "std                                0.021516             0.013832   \n",
       "min                                0.106484             0.087366   \n",
       "25%                                0.149787             0.096306   \n",
       "50%                                0.162046             0.102474   \n",
       "75%                                0.175448             0.112848   \n",
       "max                                0.201415             0.131717   \n",
       "\n",
       "       Linear Pearsons (P)  Linear Spearman  \n",
       "count            20.000000        20.000000  \n",
       "mean              0.003162         0.101880  \n",
       "std               0.002900         0.023926  \n",
       "min               0.000097         0.052970  \n",
       "25%               0.000994         0.087855  \n",
       "50%               0.002463         0.098135  \n",
       "75%               0.004468         0.117586  \n",
       "max               0.009891         0.153815  "
      ]
     },
     "execution_count": 65,
     "metadata": {},
     "output_type": "execute_result"
    }
   ],
   "source": [
    "linear_filtered.describe()"
   ]
  },
  {
   "cell_type": "code",
   "execution_count": 96,
   "metadata": {},
   "outputs": [
    {
     "data": {
      "text/html": [
       "<div>\n",
       "<style scoped>\n",
       "    .dataframe tbody tr th:only-of-type {\n",
       "        vertical-align: middle;\n",
       "    }\n",
       "\n",
       "    .dataframe tbody tr th {\n",
       "        vertical-align: top;\n",
       "    }\n",
       "\n",
       "    .dataframe thead th {\n",
       "        text-align: right;\n",
       "    }\n",
       "</style>\n",
       "<table border=\"1\" class=\"dataframe\">\n",
       "  <thead>\n",
       "    <tr style=\"text-align: right;\">\n",
       "      <th></th>\n",
       "      <th>Manual R2 (RMSE objective)</th>\n",
       "      <th>Manual RMSE (RMSE objective)</th>\n",
       "      <th>Manual R2 (R2 objective)</th>\n",
       "      <th>Manual RMSE (R2 objective)</th>\n",
       "      <th>Logistic R2</th>\n",
       "      <th>Logistic RMSE</th>\n",
       "    </tr>\n",
       "  </thead>\n",
       "  <tbody>\n",
       "    <tr>\n",
       "      <th>count</th>\n",
       "      <td>20.000000</td>\n",
       "      <td>20.000000</td>\n",
       "      <td>20.000000</td>\n",
       "      <td>20.000000</td>\n",
       "      <td>20.000000</td>\n",
       "      <td>20.000000</td>\n",
       "    </tr>\n",
       "    <tr>\n",
       "      <th>mean</th>\n",
       "      <td>-0.026842</td>\n",
       "      <td>9.634058</td>\n",
       "      <td>-0.027241</td>\n",
       "      <td>9.635400</td>\n",
       "      <td>-0.039296</td>\n",
       "      <td>9.688515</td>\n",
       "    </tr>\n",
       "    <tr>\n",
       "      <th>std</th>\n",
       "      <td>0.009885</td>\n",
       "      <td>2.171771</td>\n",
       "      <td>0.009967</td>\n",
       "      <td>2.169816</td>\n",
       "      <td>0.010110</td>\n",
       "      <td>2.167795</td>\n",
       "    </tr>\n",
       "    <tr>\n",
       "      <th>min</th>\n",
       "      <td>-0.060365</td>\n",
       "      <td>5.515770</td>\n",
       "      <td>-0.060352</td>\n",
       "      <td>5.515739</td>\n",
       "      <td>-0.070526</td>\n",
       "      <td>5.542136</td>\n",
       "    </tr>\n",
       "    <tr>\n",
       "      <th>25%</th>\n",
       "      <td>-0.027287</td>\n",
       "      <td>8.018843</td>\n",
       "      <td>-0.029783</td>\n",
       "      <td>8.019228</td>\n",
       "      <td>-0.040384</td>\n",
       "      <td>8.090176</td>\n",
       "    </tr>\n",
       "    <tr>\n",
       "      <th>50%</th>\n",
       "      <td>-0.023060</td>\n",
       "      <td>9.582235</td>\n",
       "      <td>-0.023411</td>\n",
       "      <td>9.582402</td>\n",
       "      <td>-0.037294</td>\n",
       "      <td>9.641357</td>\n",
       "    </tr>\n",
       "    <tr>\n",
       "      <th>75%</th>\n",
       "      <td>-0.021639</td>\n",
       "      <td>11.513651</td>\n",
       "      <td>-0.021441</td>\n",
       "      <td>11.513782</td>\n",
       "      <td>-0.032356</td>\n",
       "      <td>11.550282</td>\n",
       "    </tr>\n",
       "    <tr>\n",
       "      <th>max</th>\n",
       "      <td>-0.018304</td>\n",
       "      <td>13.495625</td>\n",
       "      <td>-0.018456</td>\n",
       "      <td>13.489256</td>\n",
       "      <td>-0.029129</td>\n",
       "      <td>13.546281</td>\n",
       "    </tr>\n",
       "  </tbody>\n",
       "</table>\n",
       "</div>"
      ],
      "text/plain": [
       "       Manual R2 (RMSE objective)  Manual RMSE (RMSE objective)  \\\n",
       "count                   20.000000                     20.000000   \n",
       "mean                    -0.026842                      9.634058   \n",
       "std                      0.009885                      2.171771   \n",
       "min                     -0.060365                      5.515770   \n",
       "25%                     -0.027287                      8.018843   \n",
       "50%                     -0.023060                      9.582235   \n",
       "75%                     -0.021639                     11.513651   \n",
       "max                     -0.018304                     13.495625   \n",
       "\n",
       "       Manual R2 (R2 objective)  Manual RMSE (R2 objective)  Logistic R2  \\\n",
       "count                 20.000000                   20.000000    20.000000   \n",
       "mean                  -0.027241                    9.635400    -0.039296   \n",
       "std                    0.009967                    2.169816     0.010110   \n",
       "min                   -0.060352                    5.515739    -0.070526   \n",
       "25%                   -0.029783                    8.019228    -0.040384   \n",
       "50%                   -0.023411                    9.582402    -0.037294   \n",
       "75%                   -0.021441                   11.513782    -0.032356   \n",
       "max                   -0.018456                   13.489256    -0.029129   \n",
       "\n",
       "       Logistic RMSE  \n",
       "count      20.000000  \n",
       "mean        9.688515  \n",
       "std         2.167795  \n",
       "min         5.542136  \n",
       "25%         8.090176  \n",
       "50%         9.641357  \n",
       "75%        11.550282  \n",
       "max        13.546281  "
      ]
     },
     "execution_count": 96,
     "metadata": {},
     "output_type": "execute_result"
    }
   ],
   "source": [
    "logistic_filtered.describe()"
   ]
  },
  {
   "cell_type": "code",
   "execution_count": 69,
   "metadata": {},
   "outputs": [
    {
     "data": {
      "text/html": [
       "<div>\n",
       "<style scoped>\n",
       "    .dataframe tbody tr th:only-of-type {\n",
       "        vertical-align: middle;\n",
       "    }\n",
       "\n",
       "    .dataframe tbody tr th {\n",
       "        vertical-align: top;\n",
       "    }\n",
       "\n",
       "    .dataframe thead th {\n",
       "        text-align: right;\n",
       "    }\n",
       "</style>\n",
       "<table border=\"1\" class=\"dataframe\">\n",
       "  <thead>\n",
       "    <tr style=\"text-align: right;\">\n",
       "      <th></th>\n",
       "      <th>Optimal Weights (pearson objective)</th>\n",
       "      <th>Optimal Weights (Spearman objective)</th>\n",
       "      <th>Optimal Weights (Linear Model)</th>\n",
       "      <th>Manual Pearsons R (pearson objective)</th>\n",
       "      <th>Manual Pearsons P (pearson objective)</th>\n",
       "      <th>Manual Spearman (pearson objective)</th>\n",
       "      <th>Manual Pearsons R (Spearman objective)</th>\n",
       "      <th>Manual Pearsons P (Spearman objective)</th>\n",
       "      <th>Manual Spearman (Spearman objective)</th>\n",
       "      <th>Linear Pearsons (R)</th>\n",
       "      <th>Linear Pearsons (P)</th>\n",
       "      <th>Linear Spearman</th>\n",
       "    </tr>\n",
       "  </thead>\n",
       "  <tbody>\n",
       "    <tr>\n",
       "      <th>89</th>\n",
       "      <td>[1.5819815103606873, 1.0919259034324909, 1.148...</td>\n",
       "      <td>[-0.1527525354911414, 0.6306833097747582, 1.01...</td>\n",
       "      <td>[0.8182002004650353, 0.20190765533703758, 0.58...</td>\n",
       "      <td>0.090262</td>\n",
       "      <td>0.007687</td>\n",
       "      <td>0.120011</td>\n",
       "      <td>0.094282</td>\n",
       "      <td>0.005357</td>\n",
       "      <td>0.201415</td>\n",
       "      <td>0.104783</td>\n",
       "      <td>0.001958</td>\n",
       "      <td>0.129286</td>\n",
       "    </tr>\n",
       "  </tbody>\n",
       "</table>\n",
       "</div>"
      ],
      "text/plain": [
       "                  Optimal Weights (pearson objective)  \\\n",
       "89  [1.5819815103606873, 1.0919259034324909, 1.148...   \n",
       "\n",
       "                 Optimal Weights (Spearman objective)  \\\n",
       "89  [-0.1527525354911414, 0.6306833097747582, 1.01...   \n",
       "\n",
       "                       Optimal Weights (Linear Model)  \\\n",
       "89  [0.8182002004650353, 0.20190765533703758, 0.58...   \n",
       "\n",
       "    Manual Pearsons R (pearson objective)  \\\n",
       "89                               0.090262   \n",
       "\n",
       "    Manual Pearsons P (pearson objective)  \\\n",
       "89                               0.007687   \n",
       "\n",
       "    Manual Spearman (pearson objective)  \\\n",
       "89                             0.120011   \n",
       "\n",
       "    Manual Pearsons R (Spearman objective)  \\\n",
       "89                                0.094282   \n",
       "\n",
       "    Manual Pearsons P (Spearman objective)  \\\n",
       "89                                0.005357   \n",
       "\n",
       "    Manual Spearman (Spearman objective)  Linear Pearsons (R)  \\\n",
       "89                              0.201415             0.104783   \n",
       "\n",
       "    Linear Pearsons (P)  Linear Spearman  \n",
       "89             0.001958         0.129286  "
      ]
     },
     "execution_count": 69,
     "metadata": {},
     "output_type": "execute_result"
    }
   ],
   "source": [
    "linear_filtered.sort_values(\"Manual Spearman (Spearman objective)\").tail(1)"
   ]
  },
  {
   "cell_type": "code",
   "execution_count": 99,
   "metadata": {},
   "outputs": [
    {
     "data": {
      "text/html": [
       "<div>\n",
       "<style scoped>\n",
       "    .dataframe tbody tr th:only-of-type {\n",
       "        vertical-align: middle;\n",
       "    }\n",
       "\n",
       "    .dataframe tbody tr th {\n",
       "        vertical-align: top;\n",
       "    }\n",
       "\n",
       "    .dataframe thead th {\n",
       "        text-align: right;\n",
       "    }\n",
       "</style>\n",
       "<table border=\"1\" class=\"dataframe\">\n",
       "  <thead>\n",
       "    <tr style=\"text-align: right;\">\n",
       "      <th></th>\n",
       "      <th>Optimal Weights (RMSE objective)</th>\n",
       "      <th>Optimal Weights (R2 objective)</th>\n",
       "      <th>Optimal Weights (Logistic Model)</th>\n",
       "      <th>Manual R2 (RMSE objective)</th>\n",
       "      <th>Manual RMSE (RMSE objective)</th>\n",
       "      <th>Manual R2 (R2 objective)</th>\n",
       "      <th>Manual RMSE (R2 objective)</th>\n",
       "      <th>Logistic R2</th>\n",
       "      <th>Logistic RMSE</th>\n",
       "    </tr>\n",
       "  </thead>\n",
       "  <tbody>\n",
       "    <tr>\n",
       "      <th>90</th>\n",
       "      <td>[0.47516651105005814, 0.2421994114176826, 0.43...</td>\n",
       "      <td>[0.4752940935577866, 0.2409035147211319, 0.432...</td>\n",
       "      <td>[5.437057495904341, 5.5175860884839985, 5.4662...</td>\n",
       "      <td>-0.060365</td>\n",
       "      <td>5.51577</td>\n",
       "      <td>-0.060352</td>\n",
       "      <td>5.515739</td>\n",
       "      <td>-0.070526</td>\n",
       "      <td>5.542136</td>\n",
       "    </tr>\n",
       "  </tbody>\n",
       "</table>\n",
       "</div>"
      ],
      "text/plain": [
       "                     Optimal Weights (RMSE objective)  \\\n",
       "90  [0.47516651105005814, 0.2421994114176826, 0.43...   \n",
       "\n",
       "                       Optimal Weights (R2 objective)  \\\n",
       "90  [0.4752940935577866, 0.2409035147211319, 0.432...   \n",
       "\n",
       "                     Optimal Weights (Logistic Model)  \\\n",
       "90  [5.437057495904341, 5.5175860884839985, 5.4662...   \n",
       "\n",
       "    Manual R2 (RMSE objective)  Manual RMSE (RMSE objective)  \\\n",
       "90                   -0.060365                       5.51577   \n",
       "\n",
       "    Manual R2 (R2 objective)  Manual RMSE (R2 objective)  Logistic R2  \\\n",
       "90                 -0.060352                    5.515739    -0.070526   \n",
       "\n",
       "    Logistic RMSE  \n",
       "90       5.542136  "
      ]
     },
     "execution_count": 99,
     "metadata": {},
     "output_type": "execute_result"
    }
   ],
   "source": [
    "logistic_filtered.sort_values(\"Manual RMSE (RMSE objective)\").head(1)"
   ]
  },
  {
   "cell_type": "markdown",
   "metadata": {},
   "source": [
    "# Manual Analysis"
   ]
  },
  {
   "cell_type": "code",
   "execution_count": 91,
   "metadata": {},
   "outputs": [],
   "source": [
    "X1_train, X1_test, X2_train, X2_test, y_train, y_test = train_test_split(X1, X2, y, random_state=89)\n",
    "X1 = final_merged_df[['age_of_acquisition_c1', 'concreteness_c1', 'familiarity_c1', 'imagability_c1']]\n",
    "X2 = final_merged_df[['age_of_acquisition_c2', 'concreteness_c2', 'familiarity_c2', 'imagability_c2']]\n",
    "y = final_merged_df['colex_count']\n",
    "scaler = StandardScaler()\n",
    "X1_train_scaled = scaler.fit_transform(X1_train)\n",
    "X1_test_scaled = scaler.transform(X1_test)\n",
    "X2_train_scaled = scaler.fit_transform(X2_train)\n",
    "X2_test_scaled = scaler.transform(X2_test)  \n",
    "\n",
    "optimal_weights = linear_filtered.loc[89][\"Optimal Weights (Spearman objective)\"]\n",
    "\n",
    "predictions1_test1 = X1_test_scaled.dot(optimal_weights[:-1]) \n",
    "predictions2_test1 = X2_test_scaled.dot(optimal_weights[:-1])\n",
    "predictions = predictions1_test1 + predictions2_test1 + optimal_weights[-1]"
   ]
  },
  {
   "cell_type": "code",
   "execution_count": 92,
   "metadata": {
    "collapsed": true
   },
   "outputs": [
    {
     "data": {
      "text/plain": [
       "Text(0, 0.5, 'colexification values')"
      ]
     },
     "execution_count": 92,
     "metadata": {},
     "output_type": "execute_result"
    },
    {
     "data": {
      "image/png": "[encoded data removed]",
      "text/plain": [
       "<Figure size 640x480 with 1 Axes>"
      ]
     },
     "metadata": {},
     "output_type": "display_data"
    }
   ],
   "source": [
    "plt.scatter(predictions, y_test)\n",
    "plt.title(\"Correlation of the linear regression model's prediction with the actual values\")\n",
    "plt.xlabel(\"Model predictions\")\n",
    "plt.ylabel(\"colexification values\")"
   ]
  },
  {
   "cell_type": "code",
   "execution_count": 116,
   "metadata": {},
   "outputs": [],
   "source": [
    "X1_train, X1_test, X2_train, X2_test, y_train, y_test = train_test_split(X1, X2, y, random_state=89)\n",
    "X1 = final_merged_df[['age_of_acquisition_c1', 'concreteness_c1', 'familiarity_c1', 'imagability_c1']]\n",
    "X2 = final_merged_df[['age_of_acquisition_c2', 'concreteness_c2', 'familiarity_c2', 'imagability_c2']]\n",
    "y = final_merged_df['colex_count']\n",
    "scaler = StandardScaler()\n",
    "X1_train_scaled = scaler.fit_transform(X1_train)\n",
    "X1_test_scaled = scaler.transform(X1_test)\n",
    "X2_train_scaled = scaler.fit_transform(X2_train)\n",
    "X2_test_scaled = scaler.transform(X2_test) \n",
    "optimal_weights = logistic_filtered.loc[90][\"Optimal Weights (RMSE objective)\"]\n",
    "predictions1_test1 = X1_test_scaled.dot(optimal_weights[:-1]) \n",
    "predictions2_test1 = X2_test_scaled.dot(optimal_weights[:-1])\n",
    "predictions = predictions1_test1 + predictions2_test1 + optimal_weights[-1]"
   ]
  },
  {
   "cell_type": "code",
   "execution_count": 117,
   "metadata": {
    "scrolled": true
   },
   "outputs": [
    {
     "data": {
      "text/plain": [
       "Text(0, 0.5, 'colexification values')"
      ]
     },
     "execution_count": 117,
     "metadata": {},
     "output_type": "execute_result"
    },
    {
     "data": {
      "image/png": "[encoded data removed]",
      "text/plain": [
       "<Figure size 640x480 with 1 Axes>"
      ]
     },
     "metadata": {},
     "output_type": "display_data"
    }
   ],
   "source": [
    "plt.scatter(predictions, y_test)\n",
    "plt.title(\"Correlation of the logistic regression model's prediction with the actual values\")\n",
    "plt.xlabel(\"Model predictions\")\n",
    "plt.ylabel(\"colexification values\")"
   ]
  },
  {
   "cell_type": "code",
   "execution_count": 122,
   "metadata": {},
   "outputs": [
    {
     "data": {
      "text/plain": [
       "1911.6921815636015"
      ]
     },
     "execution_count": 122,
     "metadata": {},
     "output_type": "execute_result"
    }
   ],
   "source": [
    "sum(abs(predictions - y_test))"
   ]
  },
  {
   "cell_type": "markdown",
   "metadata": {},
   "source": [
    "# Pre-existing demo code on obtaining colexification counts"
   ]
  },
  {
   "cell_type": "code",
   "execution_count": null,
   "metadata": {},
   "outputs": [],
   "source": [
    "def per_lang_colexification(curr_df):\n",
    "    \"\"\"\n",
    "    Calculate the colexification frequency of pairs of concepts present in the current language.\n",
    "    \"\"\"\n",
    "    all_combos_dict = {}\n",
    "    # We iterate through each row, which has the concepts associated with a specific word\n",
    "    for i, row in curr_df.iterrows():\n",
    "        # Get the current set of concepts\n",
    "        a = row['concepticon_gloss']\n",
    "        # Create all possible unique combinations of concepts, where each pair is alphabetically sorted\n",
    "        combos = list(set(map(lambda x: tuple(sorted(x)), product(a, a))))\n",
    "        # Ensure the concepts in the pair are not identical\n",
    "        combos = [combo for combo in combos if combo[0] != combo[1]]\n",
    "        # Add counts for a pair of combinations being colexified\n",
    "        for combo in combos:\n",
    "            if combo in all_combos_dict:\n",
    "                all_combos_dict[combo] += 1\n",
    "            else:\n",
    "                all_combos_dict[combo] = 1\n",
    "\n",
    "    # Create a DataFrame out of our dictionary and return the colexification counts for two concepts\n",
    "    tmp = pd.DataFrame.from_dict(all_combos_dict, \"index\").reset_index()\n",
    "    per_lang = pd.DataFrame(tmp['index'].tolist(), columns=['concept_1', \"concept_2\"])\n",
    "    per_lang['colexification_count'] = tmp[0]\n",
    "    return per_lang"
   ]
  },
  {
   "cell_type": "code",
   "execution_count": null,
   "metadata": {},
   "outputs": [],
   "source": [
    "def main():\n",
    "    all_dfs = []\n",
    "    for variety in tqdm(df['variety'].unique()):\n",
    "        sub = df[df['variety'] == variety]\n",
    "        agg = sub.groupby(\"clics_form\")[['concepticon_gloss', 'concepticon_id']].agg(list)\n",
    "        agg['num_concepts'] = agg['concepticon_gloss'].apply(lambda x: len(set(x)))\n",
    "        colex = agg[agg['num_concepts']>1]\n",
    "        colex['concepticon_gloss'] = colex['concepticon_gloss'].apply(lambda x: sorted(list(set(x))))\n",
    "        # We skip any language where no concepts are colexified\n",
    "        if colex.shape[0] == 0:\n",
    "            continue\n",
    "        curr_df = per_lang_colexification(colex)\n",
    "        all_dfs.append(curr_df)\n",
    "    mega = pd.concat(all_dfs)\n",
    "    colex_counts = mega.groupby([\"concept_1\", \"concept_2\"]).sum().reset_index()\n",
    "    return colex_counts\n",
    "c_count = main()\n",
    "c_count.to_csv(\"colex_counts.csv\", index=False)"
   ]
  }
 ],
 "metadata": {
  "kernelspec": {
   "display_name": "Python 3 (ipykernel)",
   "language": "python",
   "name": "python3"
  },
  "language_info": {
   "codemirror_mode": {
    "name": "ipython",
    "version": 3
   },
   "file_extension": ".py",
   "mimetype": "text/x-python",
   "name": "python",
   "nbconvert_exporter": "python",
   "pygments_lexer": "ipython3",
   "version": "3.10.8"
  }
 },
 "nbformat": 4,
 "nbformat_minor": 2
}
